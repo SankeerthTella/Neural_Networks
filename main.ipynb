{
 "cells": [
  {
   "cell_type": "markdown",
   "metadata": {},
   "source": [
    "# SINGLE LAYER NEURAL NETWORK IN PYTHON FROM SCRATCH"
   ]
  },
  {
   "cell_type": "code",
   "execution_count": 17,
   "metadata": {},
   "outputs": [],
   "source": [
    "import numpy as np\n",
    "import util_mnist_reader\n",
    "import pandas\n",
    "X_train, y_train = util_mnist_reader.load_mnist('C://Users//lenovo//jupyter_workspace//data//fashion', kind='train')\n",
    "X_test, y_test = util_mnist_reader.load_mnist('C://Users//lenovo//jupyter_workspace//data//fashion', kind='t10k')\n",
    "def sigmoid(x):\n",
    "    return 1/(1 + np.exp(-x))\n",
    "def softmax(A):\n",
    "    A = np.exp(A)\n",
    "    return A/A.sum(axis=1,keepdims=True)"
   ]
  },
  {
   "cell_type": "code",
   "execution_count": 18,
   "metadata": {},
   "outputs": [
    {
     "name": "stdout",
     "output_type": "stream",
     "text": [
      "[9 0 0 ... 3 0 5]\n",
      "[9 2 1 ... 8 1 5]\n"
     ]
    },
    {
     "data": {
      "text/plain": [
       "(60000, 10)"
      ]
     },
     "execution_count": 18,
     "metadata": {},
     "output_type": "execute_result"
    }
   ],
   "source": [
    "X_train=np.asarray(X_train)\n",
    "X_train=X_train/255.0\n",
    "y_train=np.asarray(y_train)\n",
    "actual_y=y_train\n",
    "y_train=np.asarray(y_train)\n",
    "y_train = pandas.get_dummies(y_train)\n",
    "y_train=np.asarray(y_train)\n",
    "print(actual_y)\n",
    "\n",
    "X_test=np.asarray(X_test)\n",
    "X_test=X_test/255.0\n",
    "y_test=np.asarray(y_test)\n",
    "actual_y_test=y_test\n",
    "y_test=np.asarray(y_test)\n",
    "y_test = pandas.get_dummies(y_test)\n",
    "y_test=np.asarray(y_test)\n",
    "print(actual_y_test)\n",
    "\n",
    "X=X_train\n",
    "T=y_train\n",
    "T.shape"
   ]
  },
  {
   "cell_type": "code",
   "execution_count": 19,
   "metadata": {},
   "outputs": [],
   "source": [
    "def forwardpropogation(X,W1,b1,W2,b2):\n",
    "    A = sigmoid(X.dot(W1) + b1) \n",
    "    Y = softmax(A.dot(W2) + b2) \n",
    "    return A,Y  "
   ]
  },
  {
   "cell_type": "code",
   "execution_count": 20,
   "metadata": {},
   "outputs": [],
   "source": [
    "def backwardpropogation(Y,T,W2,A):\n",
    "    d2 = (Y - T)\n",
    "    d1 = ((d2).dot(W2.T) * A * (1 - A))\n",
    "    return d2,d1  "
   ]
  },
  {
   "cell_type": "code",
   "execution_count": 21,
   "metadata": {},
   "outputs": [],
   "source": [
    "def update_weights_and_bias(A,T,delta2,alpha,X,delta1,W2,W1,b2,b1):\n",
    "    W2 -= alpha * A.T.dot(delta2)\n",
    "    b2 -= alpha * (delta2).sum(axis=0)\n",
    "    W1 -= alpha * X.T.dot(delta1)\n",
    "    b1 -= alpha * (delta1).sum(axis=0)\n",
    "    return W2,b2,W1,b1"
   ]
  },
  {
   "cell_type": "code",
   "execution_count": 33,
   "metadata": {},
   "outputs": [],
   "source": [
    "def cal_acc(actual_y,predictions,n):\n",
    "    acc=sum(actual_y==predictions)/n\n",
    "    return acc"
   ]
  },
  {
   "cell_type": "code",
   "execution_count": 23,
   "metadata": {},
   "outputs": [
    {
     "name": "stdout",
     "output_type": "stream",
     "text": [
      "value of loss function for  0  iterations:  33.54435293798401\n",
      "Training Accuracy after  0  iterations :  0.05333333333333334\n",
      "value of loss function for  10  iterations:  9.172257931490856\n",
      "Training Accuracy after  10  iterations :  0.5101\n",
      "value of loss function for  20  iterations:  4.405898359321259\n",
      "Training Accuracy after  20  iterations :  0.5645166666666667\n",
      "value of loss function for  30  iterations:  3.0696336884121513\n",
      "Training Accuracy after  30  iterations :  0.66485\n",
      "value of loss function for  40  iterations:  3.136598956339599\n",
      "Training Accuracy after  40  iterations :  0.68955\n",
      "value of loss function for  50  iterations:  2.9001881247692523\n",
      "Training Accuracy after  50  iterations :  0.6861333333333334\n",
      "value of loss function for  60  iterations:  2.816224859254696\n",
      "Training Accuracy after  60  iterations :  0.6860666666666667\n",
      "value of loss function for  70  iterations:  2.6375588224859086\n",
      "Training Accuracy after  70  iterations :  0.6877333333333333\n",
      "value of loss function for  80  iterations:  1.759637236719122\n",
      "Training Accuracy after  80  iterations :  0.73125\n",
      "value of loss function for  90  iterations:  2.7151791946458803\n",
      "Training Accuracy after  90  iterations :  0.68915\n",
      "value of loss function for  100  iterations:  2.1746107201418567\n",
      "Training Accuracy after  100  iterations :  0.7091166666666666\n",
      "value of loss function for  110  iterations:  2.2220173965847114\n",
      "Training Accuracy after  110  iterations :  0.75005\n",
      "value of loss function for  120  iterations:  1.9859814308569892\n",
      "Training Accuracy after  120  iterations :  0.7236333333333334\n",
      "value of loss function for  130  iterations:  1.4603570759123372\n",
      "Training Accuracy after  130  iterations :  0.7570833333333333\n",
      "value of loss function for  140  iterations:  1.3306186757466771\n",
      "Training Accuracy after  140  iterations :  0.77515\n",
      "value of loss function for  150  iterations:  2.493153834181036\n",
      "Training Accuracy after  150  iterations :  0.7463666666666666\n",
      "value of loss function for  160  iterations:  2.5590769393634\n",
      "Training Accuracy after  160  iterations :  0.7558\n",
      "value of loss function for  170  iterations:  1.855298928157736\n",
      "Training Accuracy after  170  iterations :  0.7348833333333333\n",
      "value of loss function for  180  iterations:  1.7390946153964526\n",
      "Training Accuracy after  180  iterations :  0.74785\n",
      "value of loss function for  190  iterations:  1.3329396239691869\n",
      "Training Accuracy after  190  iterations :  0.7730166666666667\n"
     ]
    }
   ],
   "source": [
    "samples = X.shape[0] \n",
    "features = X.shape[1] \n",
    "hidden_nodes = 512\n",
    "num_classes = 10\n",
    "W1 = np.random.randn(features, hidden_nodes)\n",
    "b1 = np.random.randn(hidden_nodes)\n",
    "W2 = np.random.randn(hidden_nodes, num_classes)\n",
    "b2 = np.random.randn(num_classes)\n",
    "alpha = 10e-6\n",
    "costs = []\n",
    "accuracy= []\n",
    "n=60000\n",
    "for epoch in range(200):\n",
    "    A,Y=forwardpropogation(X,W1,b1,W2,b2)\n",
    "    delta2,delta1=backwardpropogation(Y,T,W2,A)\n",
    "    W2,b2,W1,b1=update_weights_and_bias(A,T,delta2,alpha,X,delta1,W2,W1,b2,b1)\n",
    "    if epoch % 10 == 0:\n",
    "        loss = -1/60000*np.sum(T * np.log(Y))\n",
    "        print('value of loss function for ',epoch,' iterations: ', loss)\n",
    "        costs.append(loss)\n",
    "        pred = np.argmax(Y, axis=1)\n",
    "        acc=cal_acc(actual_y,pred,n)\n",
    "        accuracy.append(acc)\n",
    "        print('Training Accuracy after ',epoch,' iterations : ',acc)\n",
    "        #print('\\n')"
   ]
  },
  {
   "cell_type": "code",
   "execution_count": 54,
   "metadata": {},
   "outputs": [
    {
     "data": {
      "image/png": "[encoded data removed]",
      "text/plain": [
       "<Figure size 432x288 with 1 Axes>"
      ]
     },
     "metadata": {},
     "output_type": "display_data"
    }
   ],
   "source": [
    "import matplotlib.pyplot as plt\n",
    "plt.plot(accuracy)\n",
    "plt.title(\"Accuracy vs Number of epochs\")\n",
    "plt.xlabel(\"Number of epochs * 10\")\n",
    "plt.ylabel(\"accuracy\")\n",
    "plt.show()\n"
   ]
  },
  {
   "cell_type": "code",
   "execution_count": 62,
   "metadata": {},
   "outputs": [
    {
     "name": "stdout",
     "output_type": "stream",
     "text": [
      "Training Accuracy : 77.30166666666666\n"
     ]
    }
   ],
   "source": [
    "print('Training Accuracy :',accuracy[-1]*100)"
   ]
  },
  {
   "cell_type": "code",
   "execution_count": 59,
   "metadata": {
    "scrolled": true
   },
   "outputs": [
    {
     "data": {
      "image/png": "[encoded data removed]",
      "text/plain": [
       "<Figure size 432x288 with 1 Axes>"
      ]
     },
     "metadata": {},
     "output_type": "display_data"
    }
   ],
   "source": [
    "plt.plot(costs)\n",
    "plt.title(\"Costs function vs Number of epochs\")\n",
    "plt.xlabel(\"Number of epochs * 10\")\n",
    "plt.ylabel(\"costs\")\n",
    "plt.show()"
   ]
  },
  {
   "cell_type": "code",
   "execution_count": 58,
   "metadata": {},
   "outputs": [
    {
     "name": "stdout",
     "output_type": "stream",
     "text": [
      "Test Accuracy : 71.7\n"
     ]
    }
   ],
   "source": [
    "test_samples = X_test.shape[0]\n",
    "#print(test_samples)\n",
    "A_test,Y_tests=forwardpropogation(X_test,W1,b1,W2,b2)\n",
    "pred = np.argmax(Y_tests, axis=1)\n",
    "acc=cal_acc(actual_y_test,pred,test_samples)\n",
    "print(\"Test Accuracy :\", acc*100)"
   ]
  },
  {
   "cell_type": "code",
   "execution_count": 36,
   "metadata": {},
   "outputs": [
    {
     "data": {
      "text/plain": [
       "array([[641,   7,   0,   8,  32,   4, 290,   1,  17,   0],\n",
       "       [ 12, 935,   0,  14,  23,   2,   9,   1,   4,   0],\n",
       "       [ 21,  11,  48,   3, 415,   2, 486,   0,  13,   1],\n",
       "       [ 68,  77,   2, 506, 132,   1, 193,   0,  21,   0],\n",
       "       [  3,   4,   0,   5, 841,   2, 137,   0,   8,   0],\n",
       "       [  4,   1,   0,   2,   2, 853,  10,  73,  14,  41],\n",
       "       [ 85,   4,   8,   7, 175,   5, 686,   0,  29,   1],\n",
       "       [  1,   0,   0,   0,   1,  65,   0, 871,   4,  58],\n",
       "       [ 12,   2,   0,   5,  21,  18,  56,   4, 878,   4],\n",
       "       [  1,   0,   0,   0,   1,  24,   1,  56,   6, 911]], dtype=int64)"
      ]
     },
     "execution_count": 36,
     "metadata": {},
     "output_type": "execute_result"
    }
   ],
   "source": [
    "from sklearn.metrics import confusion_matrix\n",
    "matrix = confusion_matrix(actual_y_test, pred)\n",
    "matrix"
   ]
  },
  {
   "cell_type": "markdown",
   "metadata": {},
   "source": [
    "# MULTILAYER NEURAL NETWORK WITH KERAS"
   ]
  },
  {
   "cell_type": "code",
   "execution_count": 37,
   "metadata": {},
   "outputs": [
    {
     "name": "stderr",
     "output_type": "stream",
     "text": [
      "C:\\Users\\lenovo\\Anaconda3\\lib\\site-packages\\h5py\\__init__.py:36: FutureWarning: Conversion of the second argument of issubdtype from `float` to `np.floating` is deprecated. In future, it will be treated as `np.float64 == np.dtype(float).type`.\n",
      "  from ._conv import register_converters as _register_converters\n",
      "Using TensorFlow backend.\n"
     ]
    }
   ],
   "source": [
    "from keras.models import Sequential\n",
    "from keras.preprocessing.image import load_img, array_to_img\n",
    "from keras.utils.np_utils import to_categorical\n",
    "from keras.callbacks import EarlyStopping\n",
    "from sklearn.metrics import confusion_matrix\n",
    "from keras.layers import Dense\n",
    "import numpy as np\n",
    "import util_mnist_reader as mnist_reader\n",
    "import matplotlib.pyplot as plt\n",
    "x_train, y_train = mnist_reader.load_mnist('C://Users//lenovo//jupyter_workspace//data//fashion', kind='train')\n",
    "x_test, y_test = mnist_reader.load_mnist('C://Users//lenovo//jupyter_workspace//data//fashion', kind='t10k')"
   ]
  },
  {
   "cell_type": "code",
   "execution_count": 38,
   "metadata": {},
   "outputs": [
    {
     "name": "stdout",
     "output_type": "stream",
     "text": [
      "(60000, 784)\n",
      "(60000,)\n",
      "(10000, 784)\n",
      "(10000,)\n"
     ]
    },
    {
     "data": {
      "text/plain": [
       "(784,)"
      ]
     },
     "execution_count": 38,
     "metadata": {},
     "output_type": "execute_result"
    }
   ],
   "source": [
    "print(x_train.shape)\n",
    "print(y_train.shape)\n",
    "print(x_test.shape)\n",
    "print(y_test.shape)\n",
    "x_train[0].shape"
   ]
  },
  {
   "cell_type": "code",
   "execution_count": 39,
   "metadata": {},
   "outputs": [],
   "source": [
    "x_train = x_train.astype('float32')\n",
    "x_test = x_test.astype('float32')\n",
    "x_train /= 255.0\n",
    "x_test /= 255.0\n",
    "y_train = to_categorical(y_train,10)\n",
    "y_test = to_categorical(y_test,10)\n",
    "early_stop = EarlyStopping(monitor='val_loss', min_delta=0, patience=5, verbose=1, mode='auto', restore_best_weights= True)"
   ]
  },
  {
   "cell_type": "code",
   "execution_count": 40,
   "metadata": {},
   "outputs": [
    {
     "name": "stdout",
     "output_type": "stream",
     "text": [
      "Model: \"sequential_1\"\n",
      "_________________________________________________________________\n",
      "Layer (type)                 Output Shape              Param #   \n",
      "=================================================================\n",
      "dense_1 (Dense)              (None, 128)               100480    \n",
      "_________________________________________________________________\n",
      "dense_2 (Dense)              (None, 64)                8256      \n",
      "_________________________________________________________________\n",
      "dense_3 (Dense)              (None, 10)                650       \n",
      "=================================================================\n",
      "Total params: 109,386\n",
      "Trainable params: 109,386\n",
      "Non-trainable params: 0\n",
      "_________________________________________________________________\n"
     ]
    }
   ],
   "source": [
    "ker = Sequential()\n",
    "ker.add(Dense(128,activation = 'relu',input_shape=(784,)))\n",
    "ker.add(Dense(64,activation = 'sigmoid'))\n",
    "ker.add(Dense(10,activation = 'softmax'))\n",
    "ker.compile(optimizer = 'adam', loss = 'categorical_crossentropy', metrics=['accuracy'])\n",
    "ker.summary()"
   ]
  },
  {
   "cell_type": "code",
   "execution_count": 41,
   "metadata": {},
   "outputs": [
    {
     "name": "stdout",
     "output_type": "stream",
     "text": [
      "Train on 60000 samples, validate on 10000 samples\n",
      "Epoch 1/100\n",
      "60000/60000 [==============================] - 15s 253us/step - loss: 0.5296 - accuracy: 0.8168 - val_loss: 0.4321 - val_accuracy: 0.8421\n",
      "Epoch 2/100\n",
      "60000/60000 [==============================] - 12s 202us/step - loss: 0.3713 - accuracy: 0.8637 - val_loss: 0.3777 - val_accuracy: 0.8651\n",
      "Epoch 3/100\n",
      "60000/60000 [==============================] - 16s 260us/step - loss: 0.3305 - accuracy: 0.8784 - val_loss: 0.3570 - val_accuracy: 0.8673\n",
      "Epoch 4/100\n",
      "60000/60000 [==============================] - 13s 212us/step - loss: 0.3081 - accuracy: 0.8857 - val_loss: 0.3642 - val_accuracy: 0.8675\n",
      "Epoch 5/100\n",
      "60000/60000 [==============================] - 11s 189us/step - loss: 0.2884 - accuracy: 0.8932 - val_loss: 0.3425 - val_accuracy: 0.8764\n",
      "Epoch 6/100\n",
      "60000/60000 [==============================] - 14s 229us/step - loss: 0.2758 - accuracy: 0.8968 - val_loss: 0.3355 - val_accuracy: 0.8774\n",
      "Epoch 7/100\n",
      "60000/60000 [==============================] - 12s 204us/step - loss: 0.2645 - accuracy: 0.9006 - val_loss: 0.3270 - val_accuracy: 0.8805\n",
      "Epoch 8/100\n",
      "60000/60000 [==============================] - 11s 182us/step - loss: 0.2512 - accuracy: 0.9060 - val_loss: 0.3239 - val_accuracy: 0.8852\n",
      "Epoch 9/100\n",
      "60000/60000 [==============================] - 11s 182us/step - loss: 0.2443 - accuracy: 0.9089 - val_loss: 0.3276 - val_accuracy: 0.8833\n",
      "Epoch 10/100\n",
      "60000/60000 [==============================] - 11s 179us/step - loss: 0.2369 - accuracy: 0.9113 - val_loss: 0.3258 - val_accuracy: 0.8865\n",
      "Epoch 11/100\n",
      "60000/60000 [==============================] - 11s 179us/step - loss: 0.2276 - accuracy: 0.9148 - val_loss: 0.3240 - val_accuracy: 0.8838\n",
      "Epoch 12/100\n",
      "60000/60000 [==============================] - 12s 199us/step - loss: 0.2197 - accuracy: 0.9169 - val_loss: 0.3215 - val_accuracy: 0.8883\n",
      "Epoch 13/100\n",
      "60000/60000 [==============================] - 12s 194us/step - loss: 0.2127 - accuracy: 0.9201 - val_loss: 0.3341 - val_accuracy: 0.8798\n",
      "Epoch 14/100\n",
      "60000/60000 [==============================] - 14s 234us/step - loss: 0.2063 - accuracy: 0.9231 - val_loss: 0.3258 - val_accuracy: 0.8903\n",
      "Epoch 15/100\n",
      "60000/60000 [==============================] - 12s 194us/step - loss: 0.1998 - accuracy: 0.9251 - val_loss: 0.3254 - val_accuracy: 0.8884\n",
      "Epoch 16/100\n",
      "60000/60000 [==============================] - 12s 193us/step - loss: 0.1936 - accuracy: 0.9268 - val_loss: 0.3147 - val_accuracy: 0.8890\n",
      "Epoch 17/100\n",
      "60000/60000 [==============================] - 12s 196us/step - loss: 0.1892 - accuracy: 0.9290 - val_loss: 0.3231 - val_accuracy: 0.8894\n",
      "Epoch 18/100\n",
      "60000/60000 [==============================] - 14s 228us/step - loss: 0.1850 - accuracy: 0.9297 - val_loss: 0.3337 - val_accuracy: 0.8864\n",
      "Epoch 19/100\n",
      "60000/60000 [==============================] - 12s 194us/step - loss: 0.1787 - accuracy: 0.9339 - val_loss: 0.3226 - val_accuracy: 0.8927\n",
      "Epoch 20/100\n",
      "60000/60000 [==============================] - 11s 191us/step - loss: 0.1762 - accuracy: 0.9341 - val_loss: 0.3346 - val_accuracy: 0.8914\n",
      "Epoch 21/100\n",
      "60000/60000 [==============================] - 12s 194us/step - loss: 0.1697 - accuracy: 0.9370 - val_loss: 0.3374 - val_accuracy: 0.8897\n",
      "Restoring model weights from the end of the best epoch\n",
      "Epoch 00021: early stopping\n"
     ]
    }
   ],
   "source": [
    "history = ker.fit(x_train,y_train, epochs = 100, validation_data = (x_test,y_test), callbacks = [early_stop])"
   ]
  },
  {
   "cell_type": "code",
   "execution_count": 64,
   "metadata": {},
   "outputs": [
    {
     "data": {
      "text/plain": [
       "[<matplotlib.lines.Line2D at 0x253001d4588>]"
      ]
     },
     "execution_count": 64,
     "metadata": {},
     "output_type": "execute_result"
    },
    {
     "data": {
      "image/png": "[encoded data removed]",
      "text/plain": [
       "<Figure size 432x288 with 1 Axes>"
      ]
     },
     "metadata": {},
     "output_type": "display_data"
    }
   ],
   "source": [
    "plt.plot(history.history['accuracy'])"
   ]
  },
  {
   "cell_type": "code",
   "execution_count": 65,
   "metadata": {},
   "outputs": [
    {
     "data": {
      "text/plain": [
       "[<matplotlib.lines.Line2D at 0x253002379b0>]"
      ]
     },
     "execution_count": 65,
     "metadata": {},
     "output_type": "execute_result"
    },
    {
     "data": {
      "image/png": "[encoded data removed]",
      "text/plain": [
       "<Figure size 432x288 with 1 Axes>"
      ]
     },
     "metadata": {},
     "output_type": "display_data"
    }
   ],
   "source": [
    "\n",
    "plt.title('number of epochs vs training loss')\n",
    "plt.xlabel('number of epochs')\n",
    "plt.ylabel('training loss')\n",
    "plt.plot(history.history['loss'])\n"
   ]
  },
  {
   "cell_type": "code",
   "execution_count": 48,
   "metadata": {},
   "outputs": [
    {
     "name": "stdout",
     "output_type": "stream",
     "text": [
      "10000/10000 [==============================] - 1s 84us/step\n"
     ]
    },
    {
     "data": {
      "text/plain": [
       "[0.31474846004247664, 0.8889999985694885]"
      ]
     },
     "execution_count": 48,
     "metadata": {},
     "output_type": "execute_result"
    }
   ],
   "source": [
    "val_score = ker.evaluate(x_test,y_test)\n",
    "val_score"
   ]
  },
  {
   "cell_type": "code",
   "execution_count": 49,
   "metadata": {},
   "outputs": [
    {
     "data": {
      "text/plain": [
       "array([[3.06640891e-06, 2.42436909e-06, 1.04612205e-07, ...,\n",
       "        1.36225403e-03, 4.54146999e-07, 9.98623967e-01],\n",
       "       [1.78175309e-04, 6.23861425e-08, 9.94553447e-01, ...,\n",
       "        3.18447547e-07, 2.96408786e-07, 6.65884130e-08],\n",
       "       [4.33387049e-06, 9.99989629e-01, 1.54185193e-06, ...,\n",
       "        2.93061220e-08, 1.06779308e-09, 9.58450119e-09],\n",
       "       ...,\n",
       "       [1.36634117e-04, 6.35210924e-08, 9.80910481e-05, ...,\n",
       "        9.82188703e-06, 9.99565065e-01, 5.48445541e-07],\n",
       "       [5.05768071e-07, 9.99970436e-01, 1.01113824e-06, ...,\n",
       "        3.40131878e-09, 4.70516293e-09, 7.96657886e-08],\n",
       "       [1.71210399e-06, 9.04484580e-07, 4.43246518e-06, ...,\n",
       "        4.42195858e-04, 2.22759127e-06, 3.48123393e-07]], dtype=float32)"
      ]
     },
     "execution_count": 49,
     "metadata": {},
     "output_type": "execute_result"
    }
   ],
   "source": [
    "predict = ker.predict(x_test)\n",
    "predict"
   ]
  },
  {
   "cell_type": "code",
   "execution_count": 50,
   "metadata": {},
   "outputs": [
    {
     "data": {
      "text/plain": [
       "array([[False, False, False, ..., False, False,  True],\n",
       "       [False, False,  True, ..., False, False, False],\n",
       "       [False,  True, False, ..., False, False, False],\n",
       "       ...,\n",
       "       [False, False, False, ..., False,  True, False],\n",
       "       [False,  True, False, ..., False, False, False],\n",
       "       [False, False, False, ..., False, False, False]])"
      ]
     },
     "execution_count": 50,
     "metadata": {},
     "output_type": "execute_result"
    }
   ],
   "source": [
    "y_pred = (predict > 0.5)\n",
    "y_pred"
   ]
  },
  {
   "cell_type": "code",
   "execution_count": 51,
   "metadata": {},
   "outputs": [
    {
     "data": {
      "text/plain": [
       "array([[849,   1,  10,  16,   3,   0, 116,   0,   5,   0],\n",
       "       [  7, 978,   0,  10,   3,   0,   2,   0,   0,   0],\n",
       "       [ 63,   2, 750,   9, 115,   0,  60,   0,   1,   0],\n",
       "       [ 86,   7,   6, 840,  35,   0,  22,   0,   4,   0],\n",
       "       [ 47,   1,  54,  13, 828,   0,  55,   0,   2,   0],\n",
       "       [  4,   0,   0,   1,   0, 962,   0,  18,   2,  13],\n",
       "       [159,   1,  58,  15,  51,   0, 709,   0,   7,   0],\n",
       "       [  2,   0,   0,   0,   0,  10,   0, 971,   0,  17],\n",
       "       [ 13,   0,   1,   4,   2,   2,   4,   3, 971,   0],\n",
       "       [  1,   0,   0,   0,   0,   9,   1,  50,   0, 939]], dtype=int64)"
      ]
     },
     "execution_count": 51,
     "metadata": {},
     "output_type": "execute_result"
    }
   ],
   "source": [
    "confuson_matrix = confusion_matrix(y_test.argmax(axis=1), y_pred.argmax(axis=1))\n",
    "confuson_matrix"
   ]
  },
  {
   "cell_type": "markdown",
   "metadata": {},
   "source": [
    "# CONVOLUTIONAL NEURAL NETWORKS"
   ]
  },
  {
   "cell_type": "code",
   "execution_count": 1,
   "metadata": {},
   "outputs": [
    {
     "name": "stderr",
     "output_type": "stream",
     "text": [
      "C:\\Users\\lenovo\\Anaconda3\\lib\\site-packages\\h5py\\__init__.py:36: FutureWarning: Conversion of the second argument of issubdtype from `float` to `np.floating` is deprecated. In future, it will be treated as `np.float64 == np.dtype(float).type`.\n",
      "  from ._conv import register_converters as _register_converters\n",
      "Using TensorFlow backend.\n"
     ]
    }
   ],
   "source": [
    "from keras.models import Sequential\n",
    "from keras.preprocessing.image import load_img, array_to_img\n",
    "from keras.utils.np_utils import to_categorical\n",
    "from keras.callbacks import EarlyStopping\n",
    "from sklearn.metrics import confusion_matrix\n",
    "from keras.layers import Dropout\n",
    "from keras.layers import Dense\n",
    "from keras.layers import Conv2D, MaxPooling2D, Flatten\n",
    "import numpy as np\n",
    "import matplotlib.pyplot as plt\n",
    "import util_mnist_reader\n",
    "x_train, y_train = util_mnist_reader.load_mnist('C://Users//lenovo//jupyter_workspace//data//fashion', kind='train')\n",
    "x_test, y_test = util_mnist_reader.load_mnist('C://Users//lenovo//jupyter_workspace//data//fashion', kind='t10k')"
   ]
  },
  {
   "cell_type": "code",
   "execution_count": 2,
   "metadata": {},
   "outputs": [],
   "source": [
    "x_train = x_train.astype('float32')\n",
    "x_test = x_test.astype('float32')\n",
    "x_train /= 255.0\n",
    "x_test /= 255.0\n",
    "x_train = x_train.reshape(60000,28,28,1)\n",
    "x_test = x_test.reshape(10000,28,28,1)\n",
    "y_train = to_categorical(y_train,10)\n",
    "y_test = to_categorical(y_test,10)\n",
    "early_stop = EarlyStopping(monitor='val_loss', min_delta=0, patience=3, verbose=1, mode='auto', restore_best_weights= True)"
   ]
  },
  {
   "cell_type": "code",
   "execution_count": 3,
   "metadata": {},
   "outputs": [
    {
     "name": "stdout",
     "output_type": "stream",
     "text": [
      "Model: \"sequential_1\"\n",
      "_________________________________________________________________\n",
      "Layer (type)                 Output Shape              Param #   \n",
      "=================================================================\n",
      "conv2d_1 (Conv2D)            (None, 28, 28, 64)        320       \n",
      "_________________________________________________________________\n",
      "max_pooling2d_1 (MaxPooling2 (None, 14, 14, 64)        0         \n",
      "_________________________________________________________________\n",
      "conv2d_2 (Conv2D)            (None, 14, 14, 32)        8224      \n",
      "_________________________________________________________________\n",
      "max_pooling2d_2 (MaxPooling2 (None, 7, 7, 32)          0         \n",
      "_________________________________________________________________\n",
      "flatten_1 (Flatten)          (None, 1568)              0         \n",
      "_________________________________________________________________\n",
      "dense_1 (Dense)              (None, 128)               200832    \n",
      "_________________________________________________________________\n",
      "dense_2 (Dense)              (None, 10)                1290      \n",
      "=================================================================\n",
      "Total params: 210,666\n",
      "Trainable params: 210,666\n",
      "Non-trainable params: 0\n",
      "_________________________________________________________________\n"
     ]
    }
   ],
   "source": [
    "convonn = Sequential()\n",
    "convonn.add(Conv2D(64, kernel_size=2, padding='same', activation='relu', input_shape=(28,28,1)))\n",
    "convonn.add(MaxPooling2D(pool_size=2))\n",
    "convonn.add(Conv2D(32, kernel_size=2, padding='same', activation='sigmoid'))\n",
    "convonn.add(MaxPooling2D(pool_size=2))\n",
    "convonn.add(Flatten())\n",
    "convonn.add(Dense(128, activation='relu'))\n",
    "convonn.add(Dense(10, activation='softmax'))\n",
    "convonn.summary()"
   ]
  },
  {
   "cell_type": "code",
   "execution_count": 4,
   "metadata": {},
   "outputs": [],
   "source": [
    "convonn.compile(loss='categorical_crossentropy',optimizer='adam',metrics=['accuracy'])"
   ]
  },
  {
   "cell_type": "code",
   "execution_count": 5,
   "metadata": {},
   "outputs": [
    {
     "name": "stdout",
     "output_type": "stream",
     "text": [
      "Train on 60000 samples, validate on 10000 samples\n",
      "Epoch 1/50\n",
      "60000/60000 [==============================] - 55s 914us/step - loss: 0.6540 - accuracy: 0.7577 - val_loss: 0.4825 - val_accuracy: 0.8262\n",
      "Epoch 2/50\n",
      "60000/60000 [==============================] - 40s 665us/step - loss: 0.3859 - accuracy: 0.8585 - val_loss: 0.3773 - val_accuracy: 0.8674\n",
      "Epoch 3/50\n",
      "60000/60000 [==============================] - 40s 667us/step - loss: 0.3358 - accuracy: 0.8774 - val_loss: 0.3570 - val_accuracy: 0.8722\n",
      "Epoch 4/50\n",
      "60000/60000 [==============================] - 40s 667us/step - loss: 0.3042 - accuracy: 0.8879 - val_loss: 0.3070 - val_accuracy: 0.8839\n",
      "Epoch 5/50\n",
      "60000/60000 [==============================] - 40s 665us/step - loss: 0.2841 - accuracy: 0.8954 - val_loss: 0.2962 - val_accuracy: 0.8917\n",
      "Epoch 6/50\n",
      "60000/60000 [==============================] - 40s 664us/step - loss: 0.2669 - accuracy: 0.9021 - val_loss: 0.2956 - val_accuracy: 0.8927\n",
      "Epoch 7/50\n",
      "60000/60000 [==============================] - 41s 690us/step - loss: 0.2524 - accuracy: 0.9073 - val_loss: 0.2857 - val_accuracy: 0.8930\n",
      "Epoch 8/50\n",
      "60000/60000 [==============================] - 42s 694us/step - loss: 0.2411 - accuracy: 0.9095 - val_loss: 0.2807 - val_accuracy: 0.8980\n",
      "Epoch 9/50\n",
      "60000/60000 [==============================] - 42s 693us/step - loss: 0.2311 - accuracy: 0.9137 - val_loss: 0.2921 - val_accuracy: 0.8967\n",
      "Epoch 10/50\n",
      "60000/60000 [==============================] - 116s 2ms/step - loss: 0.2213 - accuracy: 0.9167 - val_loss: 0.2787 - val_accuracy: 0.9020\n",
      "Epoch 11/50\n",
      "60000/60000 [==============================] - 43s 713us/step - loss: 0.2146 - accuracy: 0.9194 - val_loss: 0.2809 - val_accuracy: 0.9031\n",
      "Epoch 12/50\n",
      "60000/60000 [==============================] - 43s 709us/step - loss: 0.2084 - accuracy: 0.9219 - val_loss: 0.2727 - val_accuracy: 0.9016\n",
      "Epoch 13/50\n",
      "60000/60000 [==============================] - 42s 698us/step - loss: 0.2022 - accuracy: 0.9250 - val_loss: 0.2762 - val_accuracy: 0.9039\n",
      "Epoch 14/50\n",
      "60000/60000 [==============================] - 46s 768us/step - loss: 0.1947 - accuracy: 0.9277 - val_loss: 0.2714 - val_accuracy: 0.9078\n",
      "Epoch 15/50\n",
      "60000/60000 [==============================] - 42s 696us/step - loss: 0.1886 - accuracy: 0.9299 - val_loss: 0.2816 - val_accuracy: 0.9038\n",
      "Epoch 16/50\n",
      "60000/60000 [==============================] - 43s 715us/step - loss: 0.1854 - accuracy: 0.9300 - val_loss: 0.2761 - val_accuracy: 0.9038\n",
      "Epoch 17/50\n",
      "60000/60000 [==============================] - 41s 692us/step - loss: 0.1787 - accuracy: 0.9334 - val_loss: 0.2826 - val_accuracy: 0.9057\n",
      "Restoring model weights from the end of the best epoch\n",
      "Epoch 00017: early stopping\n"
     ]
    }
   ],
   "source": [
    "history = convonn.fit(x_train,y_train, epochs = 50,validation_data = (x_test,y_test), callbacks = [early_stop])"
   ]
  },
  {
   "cell_type": "code",
   "execution_count": 6,
   "metadata": {},
   "outputs": [
    {
     "data": {
      "text/plain": [
       "Text(0,0.5,'training loss')"
      ]
     },
     "execution_count": 6,
     "metadata": {},
     "output_type": "execute_result"
    },
    {
     "data": {
      "image/png": "[encoded data removed]",
      "text/plain": [
       "<Figure size 432x288 with 1 Axes>"
      ]
     },
     "metadata": {},
     "output_type": "display_data"
    }
   ],
   "source": [
    "plt.title('number of epochs vs training loss')\n",
    "plt.plot(history.history['loss'])\n",
    "plt.xlabel('number of epochs')\n",
    "plt.ylabel('training loss')"
   ]
  },
  {
   "cell_type": "code",
   "execution_count": 8,
   "metadata": {},
   "outputs": [
    {
     "name": "stdout",
     "output_type": "stream",
     "text": [
      "10000/10000 [==============================] - 2s 230us/step\n"
     ]
    }
   ],
   "source": [
    "score = convonn.evaluate(x_test,y_test)\n",
    "predict = convonn.predict(x_test)\n",
    "y_pred = (predict > 0.5)\n",
    "cm = confusion_matrix(y_test.argmax(axis=1), y_pred.argmax(axis=1))"
   ]
  },
  {
   "cell_type": "code",
   "execution_count": 9,
   "metadata": {},
   "outputs": [
    {
     "data": {
      "text/plain": [
       "array([[924,   0,  13,   9,   2,   0,  45,   0,   7,   0],\n",
       "       [ 12, 971,   0,  14,   0,   0,   1,   0,   2,   0],\n",
       "       [ 52,   0, 853,   5,  47,   0,  43,   0,   0,   0],\n",
       "       [ 54,   4,  10, 896,  18,   0,  16,   0,   2,   0],\n",
       "       [ 39,   0,  39,  33, 843,   0,  45,   0,   1,   0],\n",
       "       [  1,   0,   0,   0,   0, 977,   0,  19,   1,   2],\n",
       "       [199,   1,  51,  18,  64,   0, 658,   0,   9,   0],\n",
       "       [  4,   0,   0,   0,   0,   4,   0, 985,   0,   7],\n",
       "       [ 11,   1,   1,   1,   0,   2,   0,   3, 981,   0],\n",
       "       [  3,   0,   0,   0,   0,   8,   0,  67,   1, 921]], dtype=int64)"
      ]
     },
     "execution_count": 9,
     "metadata": {},
     "output_type": "execute_result"
    }
   ],
   "source": [
    "cm"
   ]
  },
  {
   "cell_type": "code",
   "execution_count": null,
   "metadata": {},
   "outputs": [],
   "source": []
  },
  {
   "cell_type": "code",
   "execution_count": null,
   "metadata": {},
   "outputs": [],
   "source": []
  }
 ],
 "metadata": {
  "kernelspec": {
   "display_name": "Python 3",
   "language": "python",
   "name": "python3"
  },
  "language_info": {
   "codemirror_mode": {
    "name": "ipython",
    "version": 3
   },
   "file_extension": ".py",
   "mimetype": "text/x-python",
   "name": "python",
   "nbconvert_exporter": "python",
   "pygments_lexer": "ipython3",
   "version": "3.6.4"
  }
 },
 "nbformat": 4,
 "nbformat_minor": 2
}
